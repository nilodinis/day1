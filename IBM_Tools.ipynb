{
 "cells": [
  {
   "cell_type": "markdown",
   "id": "ba911ad5-3dc2-4cae-8455-ea001f43532e",
   "metadata": {},
   "source": [
    "# My Jupyter Notebook on IBM Watson Studio"
   ]
  },
  {
   "cell_type": "markdown",
   "id": "0da91a22-7172-48e0-9ae7-1fef92676e65",
   "metadata": {},
   "source": [
    "**Nilo Dinis**\n",
    "\n",
    "Spacial Analyst"
   ]
  },
  {
   "cell_type": "markdown",
   "id": "ee480aa2-c1cf-46cf-afbe-6797e26deb59",
   "metadata": {},
   "source": [
    "*I wish to improve my Data Science skills*"
   ]
  },
  {
   "cell_type": "markdown",
   "id": "4b693e97-a855-402a-ab6a-e77dc2dabe48",
   "metadata": {},
   "source": [
    "### Sum of two fixed variables"
   ]
  },
  {
   "cell_type": "code",
   "execution_count": 3,
   "id": "5d4b8dba-ed9f-4e3e-a9c7-17776f3a4904",
   "metadata": {},
   "outputs": [
    {
     "name": "stdout",
     "output_type": "stream",
     "text": [
      "300\n"
     ]
    }
   ],
   "source": [
    "y=100\n",
    "x=200\n",
    "print(x+y)"
   ]
  },
  {
   "cell_type": "markdown",
   "id": "9fd54ee6-7f07-4e34-8573-6173d163e6c5",
   "metadata": {},
   "source": [
    "| Python | JavaScript | C++ |\n",
    "| ------ | ---------- | --- |\n",
    "| Amazinf | Nice | Good |"
   ]
  },
  {
   "cell_type": "markdown",
   "id": "2dafd94d-d89e-447a-bdf3-9ec495cb217f",
   "metadata": {},
   "source": [
    "1. Uno\n",
    "2. Due\n",
    "3. Tres"
   ]
  },
  {
   "cell_type": "markdown",
   "id": "66c247c3-5655-43f7-81f4-2bfa4083c5e7",
   "metadata": {},
   "source": [
    "[IBM Cloud](https://cloud.ibm.com/login)"
   ]
  },
  {
   "cell_type": "code",
   "execution_count": null,
   "id": "a0e250ec-a60b-4ab6-99f9-f7d7b0c33283",
   "metadata": {},
   "outputs": [],
   "source": []
  }
 ],
 "metadata": {
  "kernelspec": {
   "display_name": "Python",
   "language": "python",
   "name": "conda-env-python-py"
  },
  "language_info": {
   "codemirror_mode": {
    "name": "ipython",
    "version": 3
   },
   "file_extension": ".py",
   "mimetype": "text/x-python",
   "name": "python",
   "nbconvert_exporter": "python",
   "pygments_lexer": "ipython3",
   "version": "3.7.12"
  }
 },
 "nbformat": 4,
 "nbformat_minor": 5
}
